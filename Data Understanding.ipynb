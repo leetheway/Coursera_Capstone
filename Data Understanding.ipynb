{
    "cells": [
        {
            "cell_type": "markdown",
            "metadata": {
                "collapsed": true
            },
            "source": "For this particular case, the city of interest is San Francisco, California.  The first step is to \nscrape zip codes and neighborhoods from websites and create a pandas dataframe.  After establishing these different neighborhoods, the latitude and longitude data of each will be determined in order to utilize the Foursquare location data.  By using the associated zipcode for each neighborhood, the latitude and longitude data can be pulled against the zipcode database in python.  From here an exploration of top 150 venues within each neighborhood will be called from Foursquare. The data will be organized by categories and analysis for each neighborhood will be conducted and printed.  To help define the neighborhoods,  k-means will be ran to cluster the neighborhoods.  Finally each cluster will be examined to determine the distinguishing characteristics.  This will paint a picture of the type of venues within a neighborhood.  For example, the most common venue for each neighborhood can be shown.  In addition, the number of restaurants or other types of establishment within certain neighborhood can be determined.  All these data points will help the restaurateur decide on the best location.\n\n"
        }
    ],
    "metadata": {
        "kernelspec": {
            "display_name": "Python 3.6",
            "language": "python",
            "name": "python3"
        },
        "language_info": {
            "codemirror_mode": {
                "name": "ipython",
                "version": 3
            },
            "file_extension": ".py",
            "mimetype": "text/x-python",
            "name": "python",
            "nbconvert_exporter": "python",
            "pygments_lexer": "ipython3",
            "version": "3.6.8"
        }
    },
    "nbformat": 4,
    "nbformat_minor": 1
}