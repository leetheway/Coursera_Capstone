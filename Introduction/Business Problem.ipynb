{
    "cells": [
        {
            "cell_type": "markdown",
            "metadata": {
                "collapsed": true
            },
            "source": "For many budding restaurateurs, one of the most exciting and frightening moments  is  expanding to new locations.  \nOn the surface it might seem like a very natural and organic progression of replicating the initial successful recipe.  However,  as any established restaurateurs will tell you, there are many more factors.  Of all these variables,  location often surfaces to the top.  People often say, it\u2019s all about location location location!\nThus, the goal is to bring data science to a restaurateur who is looking to expand into other cities.  By using data science the proprietor will be presented with an analysis of the different neighborhoods in the new city.  The analysis will give a non emotional, objective picture of the new city and pave the way toward choosing the right location. \nThe study will identify the different neighborhoods.   For each neighborhood, Foursquare location data will be utilized to define the characteristics, businesses, interests and etc.  Furthermore,  the neighborhoods will be grouped by these defining characteristics.  Lastly, metrics for each of the cluster will be calculated.  Hopefully this will give a clearer picture for the restaurateur in making the final decision.  \n"
        }
    ],
    "metadata": {
        "kernelspec": {
            "display_name": "Python 3.6",
            "language": "python",
            "name": "python3"
        },
        "language_info": {
            "codemirror_mode": {
                "name": "ipython",
                "version": 3
            },
            "file_extension": ".py",
            "mimetype": "text/x-python",
            "name": "python",
            "nbconvert_exporter": "python",
            "pygments_lexer": "ipython3",
            "version": "3.6.8"
        }
    },
    "nbformat": 4,
    "nbformat_minor": 1
}